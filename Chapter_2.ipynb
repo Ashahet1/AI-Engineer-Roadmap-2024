{
  "nbformat": 4,
  "nbformat_minor": 0,
  "metadata": {
    "colab": {
      "provenance": [],
      "toc_visible": true,
      "mount_file_id": "1K8Q2Du2ZCfOioGixP4AqV6BgouFchnSr",
      "authorship_tag": "ABX9TyONg1VGgZY3BogirKwY4aob",
      "include_colab_link": true
    },
    "kernelspec": {
      "name": "python3",
      "display_name": "Python 3"
    },
    "language_info": {
      "name": "python"
    }
  },
  "cells": [
    {
      "cell_type": "markdown",
      "metadata": {
        "id": "view-in-github",
        "colab_type": "text"
      },
      "source": [
        "<a href=\"https://colab.research.google.com/github/Ashahet1/AI-Engineer-Roadmap-2024/blob/main/Chapter_2.ipynb\" target=\"_parent\"><img src=\"https://colab.research.google.com/assets/colab-badge.svg\" alt=\"Open In Colab\"/></a>"
      ]
    },
    {
      "cell_type": "markdown",
      "source": [
        "Chapter 2: Epochs"
      ],
      "metadata": {
        "id": "QdLf8yGjWWfu"
      }
    }
  ]
}